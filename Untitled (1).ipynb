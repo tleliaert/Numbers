{
 "cells": [
  {
   "cell_type": "code",
   "execution_count": 16,
   "id": "72bbc452-1130-45a6-a62f-3c8d19e79c9a",
   "metadata": {},
   "outputs": [],
   "source": [
    "minutes_in_a_hour = 60\n",
    "seconds_in_a_minute = 60\n",
    "seconds_in_a_hour = minutes_in_a_hour * seconds_in_a_minute\n",
    "\n",
    "seconds_per_hour = seconds_in_a_hour\n",
    "\n",
    "seconds_in_a_day = seconds_per_hour * 24\n",
    "\n",
    "seconds_per_day = seconds_in_a_day\n",
    "\n",
    "fp_divisio = seconds_per_day / seconds_per_hour\n",
    "\n",
    "integer_division = seconds_per_day // seconds_per_hour"
   ]
  }
 ],
 "metadata": {
  "kernelspec": {
   "display_name": "Python 3 (ipykernel)",
   "language": "python",
   "name": "python3"
  },
  "language_info": {
   "codemirror_mode": {
    "name": "ipython",
    "version": 3
   },
   "file_extension": ".py",
   "mimetype": "text/x-python",
   "name": "python",
   "nbconvert_exporter": "python",
   "pygments_lexer": "ipython3",
   "version": "3.11.7"
  }
 },
 "nbformat": 4,
 "nbformat_minor": 5
}
